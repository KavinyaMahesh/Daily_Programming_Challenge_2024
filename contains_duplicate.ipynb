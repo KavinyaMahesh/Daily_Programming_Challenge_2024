{
 "cells": [
  {
   "cell_type": "code",
   "execution_count": 7,
   "metadata": {},
   "outputs": [],
   "source": [
    "# You are given an array arr containing n+1 integers, where each integer is in the range [1, n] inclusive. There is exactly one duplicate number in the array, but it may appear more than once. Your task is to find the duplicate number without modifying the array and using constant extra space.\n",
    "\n",
    "# Input:\n",
    "# An integer array arr of size n+1, where each element is an integer in the range [1, n].\n",
    "# Example : arr = [3, 1, 3, 4, 2]\n",
    "\n",
    "# Output:\n",
    "# Return the duplicate integer present in the array.\n",
    "# Example: Duplicate number: 3\n",
    "\n",
    "def findDuplicate(arr):\n",
    "    \n",
    "    tortoise = arr[0]\n",
    "    hare = arr[0]\n",
    "\n",
    "    while True:\n",
    "        tortoise = arr[tortoise]\n",
    "        hare = arr[arr[hare]]\n",
    "        if tortoise == hare:\n",
    "            break\n",
    "\n",
    "    \n",
    "    tortoise = arr[0]\n",
    "    while tortoise != hare:\n",
    "        tortoise = arr[tortoise]\n",
    "        hare = arr[hare]\n",
    "\n",
    "    return hare\n",
    "\n"
   ]
  },
  {
   "cell_type": "code",
   "execution_count": 8,
   "metadata": {},
   "outputs": [
    {
     "data": {
      "text/plain": [
       "3"
      ]
     },
     "execution_count": 8,
     "metadata": {},
     "output_type": "execute_result"
    }
   ],
   "source": [
    "findDuplicate( [3, 1, 3, 4, 2])"
   ]
  },
  {
   "cell_type": "code",
   "execution_count": 9,
   "metadata": {},
   "outputs": [
    {
     "data": {
      "text/plain": [
       "4"
      ]
     },
     "execution_count": 9,
     "metadata": {},
     "output_type": "execute_result"
    }
   ],
   "source": [
    "findDuplicate( [1, 4, 4, 2, 3])"
   ]
  }
 ],
 "metadata": {
  "kernelspec": {
   "display_name": "Python 3",
   "language": "python",
   "name": "python3"
  },
  "language_info": {
   "codemirror_mode": {
    "name": "ipython",
    "version": 3
   },
   "file_extension": ".py",
   "mimetype": "text/x-python",
   "name": "python",
   "nbconvert_exporter": "python",
   "pygments_lexer": "ipython3",
   "version": "3.12.0"
  }
 },
 "nbformat": 4,
 "nbformat_minor": 2
}
