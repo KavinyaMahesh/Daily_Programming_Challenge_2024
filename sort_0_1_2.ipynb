{
 "cells": [
  {
   "cell_type": "code",
   "execution_count": 4,
   "metadata": {},
   "outputs": [],
   "source": [
    "# Sort an Array of 0s, 1s, and 2s\n",
    "# You are given an array arr consisting only of 0s, 1s, and 2s. The task is to sort the array in increasing order in linear time (i.e., O(n)) without using any extra space. This means you need to rearrange the array in-place.\n",
    "\n",
    "# Input :\n",
    "# An integer array arr of size n where each element is either 0, 1, or 2.\n",
    "# Example : arr = [0, 1, 2, 1, 0, 2, 1, 0]\n",
    "\n",
    "# Output :\n",
    "# The sorted array, arranged in increasing order of 0s, 1s, and 2s.\n",
    "# Example: [0, 0, 0, 1, 1, 1, 2, 2]\n",
    "\n",
    "\n",
    "def sorting_0_1_2(arr):\n",
    "    low, mid = 0, 0\n",
    "    high = len(arr) - 1\n",
    "\n",
    "    while mid <= high:\n",
    "        if arr[mid] == 0:\n",
    "            arr[low], arr[mid] = arr[mid], arr[low]\n",
    "            low += 1\n",
    "            mid += 1\n",
    "        elif arr[mid] == 1:\n",
    "            mid += 1\n",
    "        else:  \n",
    "            arr[high], arr[mid] = arr[mid], arr[high]\n",
    "            high -= 1\n",
    "\n",
    "    return arr"
   ]
  },
  {
   "cell_type": "code",
   "execution_count": 5,
   "metadata": {},
   "outputs": [
    {
     "name": "stdout",
     "output_type": "stream",
     "text": [
      "[0, 0, 0, 1, 1, 1, 2, 2]\n",
      "[2, 2, 2, 2]\n",
      "[0, 0, 0, 0]\n",
      "[1, 1, 1, 1]\n",
      "[0, 1, 2]\n",
      "[]\n"
     ]
    }
   ],
   "source": [
    "# Test Cases\n",
    "print(sorting_0_1_2([0, 1, 2, 1, 0, 2, 1, 0])) \n",
    "print(sorting_0_1_2([2, 2, 2, 2]))           \n",
    "print(sorting_0_1_2([0, 0, 0, 0]))            \n",
    "print(sorting_0_1_2([1, 1, 1, 1]))           \n",
    "print(sorting_0_1_2([2, 0, 1]))             \n",
    "print(sorting_0_1_2([]))                   "
   ]
  }
 ],
 "metadata": {
  "kernelspec": {
   "display_name": "Python 3",
   "language": "python",
   "name": "python3"
  },
  "language_info": {
   "codemirror_mode": {
    "name": "ipython",
    "version": 3
   },
   "file_extension": ".py",
   "mimetype": "text/x-python",
   "name": "python",
   "nbconvert_exporter": "python",
   "pygments_lexer": "ipython3",
   "version": "3.12.0"
  }
 },
 "nbformat": 4,
 "nbformat_minor": 2
}
